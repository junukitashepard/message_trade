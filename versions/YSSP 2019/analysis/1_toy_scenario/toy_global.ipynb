{
 "cells": [
  {
   "cell_type": "markdown",
   "metadata": {},
   "source": [
    "## Model setup"
   ]
  },
  {
   "cell_type": "code",
   "execution_count": 1,
   "metadata": {},
   "outputs": [],
   "source": [
    "# load required packages \n",
    "import itertools\n",
    "import pandas as pd\n",
    "import os\n",
    "\n",
    "import matplotlib.pyplot as plt\n",
    "%matplotlib inline\n",
    "plt.style.use('ggplot')\n",
    "\n",
    "import ixmp as ix\n",
    "import message_ix\n",
    "\n",
    "from message_ix.utils import make_df\n",
    "\n",
    "os.chdir('H:\\\\message_trade\\\\analysis\\\\1_toy_scenario')"
   ]
  },
  {
   "cell_type": "code",
   "execution_count": 2,
   "metadata": {},
   "outputs": [
    {
     "name": "stderr",
     "output_type": "stream",
     "text": [
      "INFO:root:launching ixmp.Platform with local HSQLDB database at 'C:\\Users\\shepard\\.local\\ixmp\\localdb\\default'\n"
     ]
    }
   ],
   "source": [
    "# launch the IX modeling platform using the local default database                         \n",
    "mp = ix.Platform(dbtype='HSQLDB')"
   ]
  },
  {
   "cell_type": "code",
   "execution_count": 3,
   "metadata": {},
   "outputs": [],
   "source": [
    "model = \"Toy Global Model\"\n",
    "scen = \"baseline\"\n",
    "annot = \"Develop a toy model to illustrate global trade incorporation\" \n",
    "\n",
    "scenario = message_ix.Scenario(mp, model, scen, version='new', annotation=annot)"
   ]
  },
  {
   "cell_type": "markdown",
   "metadata": {},
   "source": [
    "## Time and space sets"
   ]
  },
  {
   "cell_type": "code",
   "execution_count": 4,
   "metadata": {},
   "outputs": [],
   "source": [
    "# Time: Add horizon\n",
    "horizon = range(2010, 2031, 5)\n",
    "scenario.add_horizon({'year': horizon})"
   ]
  },
  {
   "cell_type": "code",
   "execution_count": 5,
   "metadata": {},
   "outputs": [
    {
     "data": {
      "text/plain": [
       "0      World\n",
       "1     global\n",
       "2    regions\n",
       "dtype: object"
      ]
     },
     "execution_count": 5,
     "metadata": {},
     "output_type": "execute_result"
    }
   ],
   "source": [
    "# Spatial: Add spatial set\n",
    "regions = [\"ASIA\", \"OECD\", \"REF\"]\n",
    "scenario.add_spatial_sets({'regions' : regions})\n",
    "scenario.set('lvl_spatial')"
   ]
  },
  {
   "cell_type": "code",
   "execution_count": 6,
   "metadata": {},
   "outputs": [],
   "source": [
    "# Add required sets: commodity, level, mode\n",
    "scenario.add_set(\"commodity\", [\"electricity\", \"light\", \"other_electricity\"])\n",
    "scenario.add_set(\"level\", [\"secondary\", \"final\", \"useful\"])\n",
    "scenario.add_set(\"mode\", \"standard\")"
   ]
  },
  {
   "cell_type": "code",
   "execution_count": 7,
   "metadata": {},
   "outputs": [],
   "source": [
    "# Add technology set\n",
    "plants = [\n",
    "    \"coal_ppl\", \n",
    "    \"gas_ppl\", \n",
    "    \"oil_ppl\", \n",
    "    \"bio_ppl\", \n",
    "    \"hydro_ppl\",\n",
    "    \"wind_ppl\", \n",
    "    \"solar_pv_ppl\", # actually primary -> final\n",
    "]\n",
    "secondary_energy_techs = plants + ['import']\n",
    "\n",
    "final_energy_techs = ['electricity_grid']\n",
    "\n",
    "lights = [\n",
    "    \"bulb\", \n",
    "    \"cfl\", \n",
    "]\n",
    "useful_energy_techs = lights + ['appliances']\n",
    "technologies = secondary_energy_techs + final_energy_techs + useful_energy_techs\n",
    "scenario.add_set(\"technology\", technologies)"
   ]
  },
  {
   "cell_type": "markdown",
   "metadata": {},
   "source": [
    "## Parameters"
   ]
  },
  {
   "cell_type": "markdown",
   "metadata": {},
   "source": [
    "### General parameters"
   ]
  },
  {
   "cell_type": "code",
   "execution_count": 8,
   "metadata": {},
   "outputs": [],
   "source": [
    "# Add \"general\" parameters: interest rate\n",
    "rate = [0.05] * len(horizon)\n",
    "unit = ['%'] * len(horizon)\n",
    "scenario.add_par(\"interestrate\", key=horizon, val=rate, unit=unit)"
   ]
  },
  {
   "cell_type": "markdown",
   "metadata": {},
   "source": [
    "### Commodity parameters (demand)"
   ]
  },
  {
   "cell_type": "code",
   "execution_count": 10,
   "metadata": {},
   "outputs": [],
   "source": [
    "# Add \"demand\" parameters: demand\n",
    "gdp = pd.read_csv('data\\\\gdp.csv')\n",
    "gdp['demand'] = gdp.gdp * 0.7"
   ]
  },
  {
   "cell_type": "code",
   "execution_count": 12,
   "metadata": {},
   "outputs": [],
   "source": [
    "# Add commodity demands: electricity (useful), other electricity (useful), light\n",
    "base = pd.read_csv('data\\\\base.csv')\n",
    "\n",
    "demand_base = base\n",
    "demand_base['time'] = 'year'\n",
    "demand_base['unit'] = 'GWa'\n",
    "\n",
    "# Other electricity\n",
    "demand_per_year = 55209. / 8760 # from IEA statistics\n",
    "\n",
    "elec_demand = demand_base\n",
    "elec_demand['commodity'] = 'other_electricity'\n",
    "elec_demand['level'] = 'useful'\n",
    "elec_demand['value'] = gdp.demand * demand_per_year\n",
    "\n",
    "# Light\n",
    "demand_per_year = 6134. / 8760 # from IEA statistics\n",
    "\n",
    "light_demand = demand_base\n",
    "light_demand['commodity'] = 'light'\n",
    "light_demand['level'] = 'useful'\n",
    "light_demand['value'] = gdp.demand * demand_per_year\n",
    "\n",
    "scenario.add_par(\"demand\", elec_demand)\n",
    "scenario.add_par(\"demand\", light_demand)"
   ]
  },
  {
   "cell_type": "markdown",
   "metadata": {},
   "source": [
    "### Technology parameters"
   ]
  },
  {
   "cell_type": "markdown",
   "metadata": {},
   "source": [
    "#### Set up input/output base dataframes"
   ]
  },
  {
   "cell_type": "code",
   "execution_count": 13,
   "metadata": {},
   "outputs": [],
   "source": [
    "# Add vintage and active years\n",
    "year_df = scenario.vintage_and_active_years()\n",
    "vintage_years, act_years = year_df['year_vtg'], year_df['year_act']"
   ]
  },
  {
   "cell_type": "code",
   "execution_count": 14,
   "metadata": {},
   "outputs": [],
   "source": [
    "# Combinations of nodes\n",
    "base_comb = pd.DataFrame(data = list(itertools.product(base['node'], base['node'])),\n",
    "                         columns = ['node1', 'node2'])\n",
    "base_comb = base_comb.drop_duplicates()\n",
    "\n",
    "# Add vintage and active years to each combination\n",
    "base_comb = pd.concat([base_comb]*len(vintage_years), ignore_index=True)\n",
    "base_comb = base_comb.sort_values(by = ['node1', 'node2'])\n",
    "base_comb = base_comb.reset_index()\n",
    "base_comb = base_comb.drop(columns = 'index')\n",
    "\n",
    "# Repeat years for each combination of nodes\n",
    "year_df2 = year_df.append(year_df, ignore_index = True)\n",
    "nt = len(regions)*len(regions)-2\n",
    "\n",
    "for i in range(nt):\n",
    "    year_df2 = year_df2.append(year_df, ignore_index = True)\n",
    "    \n",
    "base_comb['year_vtg'] = year_df2['year_vtg']\n",
    "base_comb['year_act'] = year_df2['year_act']"
   ]
  },
  {
   "cell_type": "code",
   "execution_count": 15,
   "metadata": {},
   "outputs": [],
   "source": [
    "# Set up base input dataframe\n",
    "base_input = base_comb\n",
    "base_input['mode'] = 'standard'\n",
    "base_input['commodity'] = 'electricity'\n",
    "base_input['time'] = 'year'\n",
    "base_input['time_origin'] = 'year'\n",
    "base_input = base_input.rename(index = str, \n",
    "                               columns = {'node1':'node_origin', 'node2':'node_loc'})\n",
    "\n",
    "# Set up base output dataframe\n",
    "base_output = base_input\n",
    "base_output = base_output.rename(index = str,\n",
    "                                 columns = {'node_origin':'node_loc', 'node_loc':'node_dest', 'time_origin':'time_dest'})"
   ]
  },
  {
   "cell_type": "markdown",
   "metadata": {},
   "source": [
    "#### Set up input parameters"
   ]
  },
  {
   "cell_type": "code",
   "execution_count": 16,
   "metadata": {},
   "outputs": [],
   "source": [
    "grid = pd.DataFrame(dict(\n",
    "        technology = 'electricity_grid',\n",
    "        level = 'secondary',\n",
    "        value = 1.0,\n",
    "        unit = '%',\n",
    "        **base_input\n",
    "        ))\n",
    "\n",
    "bulb = pd.DataFrame(dict(\n",
    "        technology = 'bulb',\n",
    "        level = 'final',\n",
    "        value = 1.0,\n",
    "        unit = '%',\n",
    "        **base_input\n",
    "        ))\n",
    "\n",
    "cfl = pd.DataFrame(dict(\n",
    "        technology = 'cfl',\n",
    "        level = 'final',\n",
    "        value = 0.3, \n",
    "        unit = '%',\n",
    "        **base_input\n",
    "        ))\n",
    "\n",
    "app = pd.DataFrame(dict(\n",
    "        technology = 'appliances',\n",
    "        level = 'final',\n",
    "        value = 1.0,\n",
    "        unit = '%',\n",
    "        **base_input\n",
    "        ))\n",
    "\n",
    "scenario.add_par(\"input\", grid)\n",
    "scenario.add_par(\"input\", bulb)\n",
    "scenario.add_par(\"input\", cfl)\n",
    "scenario.add_par(\"input\", app)"
   ]
  },
  {
   "cell_type": "markdown",
   "metadata": {},
   "source": [
    "#### Set up output parameters"
   ]
  },
  {
   "cell_type": "code",
   "execution_count": 17,
   "metadata": {},
   "outputs": [],
   "source": [
    "imports = make_df(base_output, technology='import', commodity='electricity', \n",
    "                  level='secondary', value=1., unit='%')\n",
    "scenario.add_par('output', imports)\n",
    "\n",
    "grid = make_df(base_output, technology='electricity_grid', commodity='electricity', \n",
    "               level='final', value=0.873, unit='%')\n",
    "scenario.add_par('output', grid)\n",
    "\n",
    "bulb = make_df(base_output, technology='bulb', commodity='light', \n",
    "               level='useful', value=1., unit='%')\n",
    "scenario.add_par('output', bulb)\n",
    "\n",
    "cfl = make_df(base_output, technology='cfl', commodity='light', \n",
    "              level='useful', value=1., unit='%')\n",
    "scenario.add_par('output', cfl)\n",
    "\n",
    "app = make_df(base_output, technology='appliances', commodity='other_electricity', \n",
    "              level='useful', value=1., unit='%')\n",
    "scenario.add_par('output', app)\n",
    "\n",
    "coal = make_df(base_output, technology='coal_ppl', commodity='electricity', \n",
    "               level='secondary', value=1., unit='%')\n",
    "scenario.add_par('output', coal)\n",
    "\n",
    "gas = make_df(base_output, technology='gas_ppl', commodity='electricity', \n",
    "              level='secondary', value=1., unit='%')\n",
    "scenario.add_par('output', gas)\n",
    "\n",
    "oil = make_df(base_output, technology='oil_ppl', commodity='electricity', \n",
    "              level='secondary', value=1., unit='%')\n",
    "scenario.add_par('output', oil)\n",
    "\n",
    "bio = make_df(base_output, technology='bio_ppl', commodity='electricity', \n",
    "              level='secondary', value=1., unit='%')\n",
    "scenario.add_par('output', bio)\n",
    "\n",
    "hydro = make_df(base_output, technology='hydro_ppl', commodity='electricity', \n",
    "                level='secondary', value=1., unit='%')\n",
    "scenario.add_par('output', hydro)\n",
    "\n",
    "wind = make_df(base_output, technology='wind_ppl', commodity='electricity', \n",
    "               level='secondary', value=1., unit='%')\n",
    "scenario.add_par('output', wind)\n",
    "\n",
    "solar_pv = make_df(base_output, technology='solar_pv_ppl', commodity='electricity', \n",
    "                   level='final', value=1., unit='%')\n",
    "scenario.add_par('output', solar_pv)"
   ]
  },
  {
   "cell_type": "markdown",
   "metadata": {},
   "source": [
    "#### Set up technical lifetimes"
   ]
  },
  {
   "cell_type": "code",
   "execution_count": 18,
   "metadata": {},
   "outputs": [],
   "source": [
    "base_technical_lifetime = base_input[['node_loc', 'year_vtg']]\n",
    "base_technical_lifetime = base_technical_lifetime.drop_duplicates()\n",
    "base_technical_lifetime['unit'] = 'y'\n",
    "\n",
    "# Assume same lifetime for all region (CHANGE)\n",
    "lifetimes = {\n",
    "    'coal_ppl': 40,\n",
    "    'gas_ppl': 30,\n",
    "    'oil_ppl': 30,\n",
    "    'bio_ppl': 30,\n",
    "    'hydro_ppl': 60,\n",
    "    'wind_ppl': 20,\n",
    "    'solar_pv_ppl': 20,\n",
    "    'bulb': 1,\n",
    "    'cfl': 10,\n",
    "}\n",
    "\n",
    "for t, v in lifetimes.items():\n",
    "    df = make_df(base_technical_lifetime, technology = t, value = v)\n",
    "    scenario.add_par('technical_lifetime', df)\n",
    "    "
   ]
  },
  {
   "cell_type": "markdown",
   "metadata": {},
   "source": [
    "#### Set up capacity factor"
   ]
  },
  {
   "cell_type": "code",
   "execution_count": 19,
   "metadata": {},
   "outputs": [],
   "source": [
    "base_cf = base_input[['node_loc', 'year_vtg', 'year_act']]\n",
    "base_cf = base_cf.drop_duplicates()\n",
    "base_cf['time'] = 'year'\n",
    "base_cf['unit'] = '%'\n",
    "\n",
    "capacity_factor = {\n",
    "    'coal_ppl': 0.85,\n",
    "    'gas_ppl': 0.75,\n",
    "    'oil_ppl': 0.75,\n",
    "    'bio_ppl': 0.75,\n",
    "    'hydro_ppl': 0.5,\n",
    "    'wind_ppl': 0.2,\n",
    "    'solar_pv_ppl': 0.15,\n",
    "    'bulb': 0.1, \n",
    "    'cfl':  0.1, \n",
    "}\n",
    "\n",
    "for t, v in capacity_factor.items():\n",
    "    df = make_df(base_cf, technology = t, value = v)\n",
    "    scenario.add_par('capacity_factor', df)"
   ]
  },
  {
   "cell_type": "markdown",
   "metadata": {},
   "source": [
    "### Technoeconomic (cost) parameters"
   ]
  },
  {
   "cell_type": "code",
   "execution_count": 20,
   "metadata": {},
   "outputs": [],
   "source": [
    "# Investment costs ($/GWa)\n",
    "base_ic = base_input[['node_loc', 'year_vtg']]\n",
    "base_ic = base_ic.drop_duplicates()\n",
    "base_ic['unit'] = 'USD/GWa'\n",
    "\n",
    "# in $ / kWa\n",
    "costs = {\n",
    "    'coal_ppl': 1500,\n",
    "    'gas_ppl':  870,\n",
    "    'oil_ppl':  950,\n",
    "    'hydro_ppl': 3000,\n",
    "    'bio_ppl':  1600,\n",
    "    'wind_ppl': 1100,\n",
    "    'solar_pv_ppl': 4000,\n",
    "    'bulb': 5,\n",
    "    'cfl':  900, \n",
    "}\n",
    "\n",
    "for t, v in costs.items():\n",
    "    df = make_df(base_ic, technology=t, value=v * 1e6)\n",
    "    scenario.add_par('inv_cost', df)"
   ]
  },
  {
   "cell_type": "code",
   "execution_count": 21,
   "metadata": {},
   "outputs": [],
   "source": [
    "# Fixed costs ($/GWa)\n",
    "base_fc = base_input[['node_loc', 'year_vtg', 'year_act']]\n",
    "base_fc = base_fc.drop_duplicates()\n",
    "base_fc['unit'] = 'USD/GWa'\n",
    "\n",
    "# in $ / kWa\n",
    "costs = {\n",
    "    'coal_ppl': 40,\n",
    "    'gas_ppl':  25,\n",
    "    'oil_ppl':  25,\n",
    "    'hydro_ppl': 60,\n",
    "    'bio_ppl':  30,\n",
    "    'wind_ppl': 40,\n",
    "    'solar_pv_ppl': 25,\n",
    "}\n",
    "\n",
    "for t, v in costs.items():\n",
    "    df = make_df(base_fc, technology=t, value=v * 1e6)\n",
    "    scenario.add_par('fix_cost', df)"
   ]
  },
  {
   "cell_type": "code",
   "execution_count": 22,
   "metadata": {},
   "outputs": [],
   "source": [
    "# Fixed costs ($/GWa)\n",
    "base_vc = base_input[['node_loc', 'year_vtg', 'year_act']]\n",
    "base_vc = base_vc.drop_duplicates()\n",
    "base_vc['unit'] = 'USD/GWa'\n",
    "base_vc['mode'] = 'standard'\n",
    "base_vc['time'] = 'year'\n",
    "\n",
    "# in $ / kWa\n",
    "costs = {\n",
    "    'coal_ppl': 40,\n",
    "    'gas_ppl':  25,\n",
    "    'oil_ppl':  25,\n",
    "    'hydro_ppl': 60,\n",
    "    'bio_ppl':  30,\n",
    "    'wind_ppl': 40,\n",
    "    'solar_pv_ppl': 25,\n",
    "}\n",
    "\n",
    "for t, v in costs.items():\n",
    "    df = make_df(base_vc, technology=t, value=v * 1e6)\n",
    "    scenario.add_par('var_cost', df)"
   ]
  },
  {
   "cell_type": "markdown",
   "metadata": {},
   "source": [
    "### Dynamic behavior parameters"
   ]
  },
  {
   "cell_type": "code",
   "execution_count": 23,
   "metadata": {},
   "outputs": [],
   "source": [
    "# Growth activity parameter\n",
    "growthdf = pd.read_csv('data\\\\growth_activities.csv')\n",
    "growthdf = growthdf[['node_loc', 'year_act', 'technology', 'value', 'time', 'unit']]\n",
    "\n",
    "growth_technologies = growthdf.technology\n",
    "growth_technologies = growth_technologies.drop_duplicates()\n",
    "\n",
    "for t in growth_technologies:\n",
    "    df = growthdf[growthdf.technology == t]\n",
    "    scenario.add_par('growth_activity_up', df)\n",
    "    "
   ]
  },
  {
   "cell_type": "code",
   "execution_count": 24,
   "metadata": {},
   "outputs": [],
   "source": [
    "# Initial activity parameter (final demand activity)\n",
    "base_initial = base_input[['node_loc', 'year_act', 'time']]\n",
    "base_initial = base_initial.drop_duplicates()\n",
    "base_initial['unit'] = '%'\n",
    "base_initial = base_initial[base_initial.year_act.isin(horizon[1:])]\n",
    "\n",
    "light_demand_active = light_demand[light_demand.year.isin(horizon[1:])]\n",
    "light_demand_active = light_demand_active[['node', 'year', 'value']]\n",
    "\n",
    "for t in lights:\n",
    "    df = pd.merge(base_initial, light_demand_active, left_on = ['year_act', 'node_loc'], right_on = ['year', 'node'])\n",
    "    df['technology'] = t\n",
    "    df['value'] = df.value * 0.01\n",
    "    scenario.add_par('initial_activity_up', df)"
   ]
  },
  {
   "cell_type": "code",
   "execution_count": 25,
   "metadata": {},
   "outputs": [],
   "source": [
    "# Activity bounds (historic), lower and upper\n",
    "activitydf = pd.read_csv('data\\\\base_activity.csv')\n",
    "\n",
    "active_tech = ['coal_ppl', 'gas_ppl', 'oil_ppl', 'hydro_ppl',\n",
    "               'bio_ppl', 'wind_ppl', 'solar_pv_ppl', 'cfl']\n",
    "\n",
    "for t in active_tech:\n",
    "    df = activitydf[['node_loc', 'year_act', 'mode', 'time', 'unit', t]]\n",
    "    df = df.rename(index = str, columns = {t:'value'})\n",
    "    df.insert(1, 'technology', t)\n",
    "    scenario.add_par('bound_activity_up', df)\n",
    "    scenario.add_par('bound_activity_lo', df)"
   ]
  },
  {
   "cell_type": "code",
   "execution_count": 26,
   "metadata": {},
   "outputs": [],
   "source": [
    "# Base capacity bounds\n",
    "base_capacity = activitydf[['node_loc']]\n",
    "base_capacity = base_capacity.drop_duplicates()\n",
    "base_capacity['unit'] = 'GWa'\n",
    "base_capacity['year_vtg'] = 2010\n",
    "base_capacity['unit'] = 'GWa'\n",
    "\n",
    "for t in active_tech:\n",
    "    act = activitydf[t]\n",
    "    cf = capacity_factor[t]\n",
    "    cap = act/8760/cf\n",
    "    \n",
    "    df = make_df(base_capacity, value = cap, technology = t)\n",
    "    scenario.add_par('bound_new_capacity_up', df)"
   ]
  },
  {
   "cell_type": "markdown",
   "metadata": {},
   "source": [
    "## Commit and solve"
   ]
  },
  {
   "cell_type": "code",
   "execution_count": 27,
   "metadata": {},
   "outputs": [],
   "source": [
    "# Commit\n",
    "comment = 'initial commit for global toy model'\n",
    "scenario.commit(comment)\n",
    "scenario.set_as_default()"
   ]
  },
  {
   "cell_type": "code",
   "execution_count": 28,
   "metadata": {},
   "outputs": [
    {
     "ename": "CalledProcessError",
     "evalue": "Command 'gams \"C:\\ProgramData\\Anaconda3\\lib\\site-packages\\message_ix\\model\\MESSAGE_run.gms\" --in=\"C:\\ProgramData\\Anaconda3\\lib\\site-packages\\message_ix\\model\\data\\MsgData_Toy_Global_Model_baseline.gdx\" --out=\"C:\\ProgramData\\Anaconda3\\lib\\site-packages\\message_ix\\model\\output\\MsgOutput_Toy_Global_Model_baseline.gdx\" --iter=\"C:\\ProgramData\\Anaconda3\\lib\\site-packages\\message_ix\\model\\output\\MsgIterationReport_Toy_Global_Model_baseline.gdx\" LogOption=4' returned non-zero exit status 3.",
     "output_type": "error",
     "traceback": [
      "\u001b[1;31m---------------------------------------------------------------------------\u001b[0m",
      "\u001b[1;31mCalledProcessError\u001b[0m                        Traceback (most recent call last)",
      "\u001b[1;32m<ipython-input-28-d5d8f77c19f7>\u001b[0m in \u001b[0;36m<module>\u001b[1;34m\u001b[0m\n\u001b[0;32m      1\u001b[0m \u001b[1;31m# Solve\u001b[0m\u001b[1;33m\u001b[0m\u001b[1;33m\u001b[0m\u001b[1;33m\u001b[0m\u001b[0m\n\u001b[1;32m----> 2\u001b[1;33m \u001b[0mscenario\u001b[0m\u001b[1;33m.\u001b[0m\u001b[0msolve\u001b[0m\u001b[1;33m(\u001b[0m\u001b[1;33m)\u001b[0m\u001b[1;33m\u001b[0m\u001b[1;33m\u001b[0m\u001b[0m\n\u001b[0m\u001b[0;32m      3\u001b[0m \u001b[0mscenario\u001b[0m\u001b[1;33m.\u001b[0m\u001b[0mvar\u001b[0m\u001b[1;33m(\u001b[0m\u001b[1;34m'OBJ'\u001b[0m\u001b[1;33m)\u001b[0m\u001b[1;33m[\u001b[0m\u001b[1;34m'lvl'\u001b[0m\u001b[1;33m]\u001b[0m\u001b[1;33m\u001b[0m\u001b[1;33m\u001b[0m\u001b[0m\n",
      "\u001b[1;32mC:\\ProgramData\\Anaconda3\\lib\\site-packages\\message_ix\\core.py\u001b[0m in \u001b[0;36msolve\u001b[1;34m(self, model, **kwargs)\u001b[0m\n\u001b[0;32m    236\u001b[0m         \u001b[0;31m`\u001b[0m\u001b[0mmessage_ix\u001b[0m\u001b[1;33m.\u001b[0m\u001b[0mScenario\u001b[0m\u001b[1;33m.\u001b[0m\u001b[0msolve\u001b[0m\u001b[1;33m(\u001b[0m\u001b[0mmodel\u001b[0m\u001b[1;33m=\u001b[0m\u001b[1;34m'MESSAGE-MACRO'\u001b[0m\u001b[1;33m)\u001b[0m\u001b[0;31m`\u001b[0m\u001b[1;33m.\u001b[0m\u001b[1;33m\u001b[0m\u001b[1;33m\u001b[0m\u001b[0m\n\u001b[0;32m    237\u001b[0m         \"\"\"\n\u001b[1;32m--> 238\u001b[1;33m         \u001b[1;32mreturn\u001b[0m \u001b[0msuper\u001b[0m\u001b[1;33m(\u001b[0m\u001b[0mScenario\u001b[0m\u001b[1;33m,\u001b[0m \u001b[0mself\u001b[0m\u001b[1;33m)\u001b[0m\u001b[1;33m.\u001b[0m\u001b[0msolve\u001b[0m\u001b[1;33m(\u001b[0m\u001b[0mmodel\u001b[0m\u001b[1;33m=\u001b[0m\u001b[0mmodel\u001b[0m\u001b[1;33m,\u001b[0m \u001b[1;33m**\u001b[0m\u001b[0mkwargs\u001b[0m\u001b[1;33m)\u001b[0m\u001b[1;33m\u001b[0m\u001b[1;33m\u001b[0m\u001b[0m\n\u001b[0m\u001b[0;32m    239\u001b[0m \u001b[1;33m\u001b[0m\u001b[0m\n\u001b[0;32m    240\u001b[0m     def clone(self, model=None, scen=None, annotation=None, keep_solution=True,\n",
      "\u001b[1;32mC:\\ProgramData\\Anaconda3\\lib\\site-packages\\ixmp\\core.py\u001b[0m in \u001b[0;36msolve\u001b[1;34m(self, model, case, model_file, in_file, out_file, solve_args, comment, var_list, equ_list, check_solution)\u001b[0m\n\u001b[0;32m   1027\u001b[0m         \u001b[1;31m# write to gdx, execture GAMS, read solution from gdx\u001b[0m\u001b[1;33m\u001b[0m\u001b[1;33m\u001b[0m\u001b[1;33m\u001b[0m\u001b[0m\n\u001b[0;32m   1028\u001b[0m         \u001b[0mself\u001b[0m\u001b[1;33m.\u001b[0m\u001b[0mto_gdx\u001b[0m\u001b[1;33m(\u001b[0m\u001b[0mipth\u001b[0m\u001b[1;33m,\u001b[0m \u001b[0mingdx\u001b[0m\u001b[1;33m)\u001b[0m\u001b[1;33m\u001b[0m\u001b[1;33m\u001b[0m\u001b[0m\n\u001b[1;32m-> 1029\u001b[1;33m         \u001b[0mrun_gams\u001b[0m\u001b[1;33m(\u001b[0m\u001b[0mmodel_file\u001b[0m\u001b[1;33m,\u001b[0m \u001b[0margs\u001b[0m\u001b[1;33m)\u001b[0m\u001b[1;33m\u001b[0m\u001b[1;33m\u001b[0m\u001b[0m\n\u001b[0m\u001b[0;32m   1030\u001b[0m         self.read_sol_from_gdx(opth, outgdx, comment,\n\u001b[0;32m   1031\u001b[0m                                var_list, equ_list, check_solution)\n",
      "\u001b[1;32mC:\\ProgramData\\Anaconda3\\lib\\site-packages\\ixmp\\core.py\u001b[0m in \u001b[0;36mrun_gams\u001b[1;34m(model_file, args, gams_args)\u001b[0m\n\u001b[0;32m   1255\u001b[0m     \u001b[0mfile_path\u001b[0m \u001b[1;33m=\u001b[0m \u001b[0mos\u001b[0m\u001b[1;33m.\u001b[0m\u001b[0mpath\u001b[0m\u001b[1;33m.\u001b[0m\u001b[0mdirname\u001b[0m\u001b[1;33m(\u001b[0m\u001b[0mmodel_file\u001b[0m\u001b[1;33m)\u001b[0m\u001b[1;33m.\u001b[0m\u001b[0mstrip\u001b[0m\u001b[1;33m(\u001b[0m\u001b[1;34m'\"'\u001b[0m\u001b[1;33m)\u001b[0m\u001b[1;33m\u001b[0m\u001b[1;33m\u001b[0m\u001b[0m\n\u001b[0;32m   1256\u001b[0m     \u001b[0mfile_path\u001b[0m \u001b[1;33m=\u001b[0m \u001b[1;32mNone\u001b[0m \u001b[1;32mif\u001b[0m \u001b[0mfile_path\u001b[0m \u001b[1;33m==\u001b[0m \u001b[1;34m''\u001b[0m \u001b[1;32melse\u001b[0m \u001b[0mfile_path\u001b[0m\u001b[1;33m\u001b[0m\u001b[1;33m\u001b[0m\u001b[0m\n\u001b[1;32m-> 1257\u001b[1;33m     \u001b[0mcheck_call\u001b[0m\u001b[1;33m(\u001b[0m\u001b[0mcmd\u001b[0m\u001b[1;33m,\u001b[0m \u001b[0mshell\u001b[0m\u001b[1;33m=\u001b[0m\u001b[0mos\u001b[0m\u001b[1;33m.\u001b[0m\u001b[0mname\u001b[0m \u001b[1;33m==\u001b[0m \u001b[1;34m'nt'\u001b[0m\u001b[1;33m,\u001b[0m \u001b[0mcwd\u001b[0m\u001b[1;33m=\u001b[0m\u001b[0mfile_path\u001b[0m\u001b[1;33m)\u001b[0m\u001b[1;33m\u001b[0m\u001b[1;33m\u001b[0m\u001b[0m\n\u001b[0m",
      "\u001b[1;32mC:\\ProgramData\\Anaconda3\\lib\\subprocess.py\u001b[0m in \u001b[0;36mcheck_call\u001b[1;34m(*popenargs, **kwargs)\u001b[0m\n\u001b[0;32m    339\u001b[0m         \u001b[1;32mif\u001b[0m \u001b[0mcmd\u001b[0m \u001b[1;32mis\u001b[0m \u001b[1;32mNone\u001b[0m\u001b[1;33m:\u001b[0m\u001b[1;33m\u001b[0m\u001b[1;33m\u001b[0m\u001b[0m\n\u001b[0;32m    340\u001b[0m             \u001b[0mcmd\u001b[0m \u001b[1;33m=\u001b[0m \u001b[0mpopenargs\u001b[0m\u001b[1;33m[\u001b[0m\u001b[1;36m0\u001b[0m\u001b[1;33m]\u001b[0m\u001b[1;33m\u001b[0m\u001b[1;33m\u001b[0m\u001b[0m\n\u001b[1;32m--> 341\u001b[1;33m         \u001b[1;32mraise\u001b[0m \u001b[0mCalledProcessError\u001b[0m\u001b[1;33m(\u001b[0m\u001b[0mretcode\u001b[0m\u001b[1;33m,\u001b[0m \u001b[0mcmd\u001b[0m\u001b[1;33m)\u001b[0m\u001b[1;33m\u001b[0m\u001b[1;33m\u001b[0m\u001b[0m\n\u001b[0m\u001b[0;32m    342\u001b[0m     \u001b[1;32mreturn\u001b[0m \u001b[1;36m0\u001b[0m\u001b[1;33m\u001b[0m\u001b[1;33m\u001b[0m\u001b[0m\n\u001b[0;32m    343\u001b[0m \u001b[1;33m\u001b[0m\u001b[0m\n",
      "\u001b[1;31mCalledProcessError\u001b[0m: Command 'gams \"C:\\ProgramData\\Anaconda3\\lib\\site-packages\\message_ix\\model\\MESSAGE_run.gms\" --in=\"C:\\ProgramData\\Anaconda3\\lib\\site-packages\\message_ix\\model\\data\\MsgData_Toy_Global_Model_baseline.gdx\" --out=\"C:\\ProgramData\\Anaconda3\\lib\\site-packages\\message_ix\\model\\output\\MsgOutput_Toy_Global_Model_baseline.gdx\" --iter=\"C:\\ProgramData\\Anaconda3\\lib\\site-packages\\message_ix\\model\\output\\MsgIterationReport_Toy_Global_Model_baseline.gdx\" LogOption=4' returned non-zero exit status 3."
     ]
    }
   ],
   "source": [
    "# Solve\n",
    "scenario.solve()\n",
    "scenario.var('OBJ')['lvl']"
   ]
  }
 ],
 "metadata": {
  "kernelspec": {
   "display_name": "Python 3",
   "language": "python",
   "name": "python3"
  },
  "language_info": {
   "codemirror_mode": {
    "name": "ipython",
    "version": 3
   },
   "file_extension": ".py",
   "mimetype": "text/x-python",
   "name": "python",
   "nbconvert_exporter": "python",
   "pygments_lexer": "ipython3",
   "version": "3.7.1"
  }
 },
 "nbformat": 4,
 "nbformat_minor": 2
}
