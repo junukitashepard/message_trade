{
 "cells": [
  {
   "cell_type": "code",
   "execution_count": 1,
   "id": "cbbb942c",
   "metadata": {},
   "outputs": [],
   "source": [
    "################\n",
    "# CHANGE BELOW #\n",
    "################\n",
    "repo = 'C:\\\\Users\\\\shepard\\\\Documents\\\\GitHub\\\\message_trade\\\\'\n",
    "\n",
    "smip_scenarios = {'SSP1_baseline': {'model': 'SSP_SSP1_v2.3.1',\n",
    "                                    'scenario': 'baseline',\n",
    "                                    'gdx_file': 'MsgOutput_SSP_SSP1_v2.3_baseline.gdx'}}\n",
    "\n",
    "import_from_gdx = False # If true, will draw on GDX files saved to a local directory."
   ]
  },
  {
   "cell_type": "code",
   "execution_count": 12,
   "id": "8e225a05",
   "metadata": {},
   "outputs": [],
   "source": [
    "#######################\n",
    "# DO NOT CHANGE BELOW #\n",
    "#######################\n",
    "# Import required packages\n",
    "import pandas as pd\n",
    "import numpy as np\n",
    "import openpyxl as oxl\n",
    "from openpyxl.utils.dataframe import dataframe_to_rows\n",
    "import csv\n",
    "import os\n",
    "import pickle\n",
    "\n",
    "# Import MESSAGEix packages\n",
    "import message_ix\n",
    "import ixmp\n",
    "\n",
    "# Import helper packages\n",
    "os.chdir(repo + '\\\\code')\n",
    "from check_packages import *\n",
    "from dictionaries import *\n",
    "\n",
    "# Pull in custom packages\n",
    "os.chdir(repo + '\\\\code\\\\postprocess')\n",
    "#from gdx_import import *\n",
    "#from import_trade_gdx import *\n",
    "\n",
    "# Directories\n",
    "cwd = repo + 'data\\\\crosswalks\\\\'\n",
    "gdxd = repo + 'data\\\\gdx\\\\'\n",
    "iead = repo + 'data\\\\IEA\\\\WEB\\\\'\n",
    "temp = repo + 'data\\\\temp\\\\'"
   ]
  },
  {
   "cell_type": "code",
   "execution_count": 3,
   "id": "df398a7a",
   "metadata": {},
   "outputs": [],
   "source": [
    "mp = ixmp.Platform()"
   ]
  },
  {
   "cell_type": "code",
   "execution_count": 4,
   "id": "ead610d6",
   "metadata": {},
   "outputs": [],
   "source": [
    "def import_trade_scenario(scenario, \n",
    "                          msg_model_name, \n",
    "                          msg_scenario_name,\n",
    "                          trade_type,\n",
    "                          mp_read = False,\n",
    "                          mp = mp):\n",
    "    \n",
    "    # Import trade crosswalk based on imports vs. exports\n",
    "    cw_trade = pd.read_excel(cwd + 'trade_activity.xlsx', sheet_name = trade_type)\n",
    "    tec_list = list(cw_trade[cw_trade['group_type'] == 'tec']['group_name'])\n",
    "    \n",
    "    # Connect to ixmp if mp_read = True\n",
    "    if mp_read == True: mp = ixmp.Platform()\n",
    "        \n",
    "    # Read scenario activity\n",
    "    scen = message_ix.Scenario(mp, msg_model_name, msg_scenario_name)\n",
    "    activity = scen.var('ACT',\n",
    "                        filters = {'technology':tec_list})\n",
    "    activity['SCENARIO'] = scenario\n",
    "    activity['MODEL'] = msg_model_name\n",
    "    \n",
    "    # Merge trade crosswalk to activity to filter required technologies and obtain descriptors\n",
    "    activity = activity.merge(cw_trade, left_on = 'technology', right_on = 'group_name', how = 'inner')\n",
    "    \n",
    "    # Define origin (if exports) or destination (if imports) based on MESSAGEix nodes\n",
    "    if trade_type == 'Exports': nd = 'ORIGIN'\n",
    "    elif trade_type == 'Imports': nd = 'DESTINATION'\n",
    "\n",
    "    activity[nd] = ''\n",
    "    for n in R12_nodes.keys():\n",
    "        activity[nd] = np.where(activity['node_loc'] == 'R12_' + n, n, activity[nd])\n",
    "\n",
    "    # Clean dataframe\n",
    "    activity['YEAR'] = activity['year_act']\n",
    "    activity = activity[['MODEL','SCENARIO', 'DESCRIPTION', 'UNIT', 'YEAR', 'FUEL', 'ORIGIN', 'DESTINATION', 'technology', 'lvl', 'mrg']]\n",
    "\n",
    "    # Store both global pool levels (\"total\") and bilateral levels (\"bilateral\")\n",
    "    if trade_type == 'Exports': gnd = 'DESTINATION'\n",
    "    elif trade_type == 'Imports': gnd = 'ORIGIN'\n",
    "\n",
    "    return {'total': activity[activity[gnd] == 'Global Pool'],\n",
    "            'bilateral': activity[activity[gnd] != 'Global Pool']}"
   ]
  },
  {
   "cell_type": "code",
   "execution_count": 5,
   "id": "68dbaf43",
   "metadata": {},
   "outputs": [
    {
     "name": "stdout",
     "output_type": "stream",
     "text": [
      "...importing SSP1_baseline\n"
     ]
    },
    {
     "name": "stderr",
     "output_type": "stream",
     "text": [
      "Existing index sets of 'map_tec_storage' ['node', 'technology', 'mode', 'technology', 'mode', 'level', 'commodity', 'lvl_temporal'] do not match ('node', 'technology', 'storage_tec', 'level', 'commodity')\n",
      "Existing index sets of 'storage_initial' ['node', 'technology', 'mode', 'level', 'commodity', 'year', 'time'] do not match ('node', 'technology', 'level', 'commodity', 'year', 'time')\n",
      "Existing index sets of 'storage_self_discharge' ['node', 'technology', 'mode', 'level', 'commodity', 'year', 'time'] do not match ('node', 'technology', 'level', 'commodity', 'year', 'time')\n",
      "Existing index sets of 'map_tec_storage' ['node', 'technology', 'mode', 'technology', 'mode', 'level', 'commodity', 'lvl_temporal'] do not match ('node', 'technology', 'storage_tec', 'level', 'commodity')\n",
      "Existing index sets of 'storage_initial' ['node', 'technology', 'mode', 'level', 'commodity', 'year', 'time'] do not match ('node', 'technology', 'level', 'commodity', 'year', 'time')\n",
      "Existing index sets of 'storage_self_discharge' ['node', 'technology', 'mode', 'level', 'commodity', 'year', 'time'] do not match ('node', 'technology', 'level', 'commodity', 'year', 'time')\n"
     ]
    }
   ],
   "source": [
    "exports = dict(); imports = dict()\n",
    "for s in smip_scenarios.keys():\n",
    "    print('...importing ' + s)\n",
    "    exports[s] =  import_trade_scenario(scenario = s,\n",
    "                                        msg_model_name = smip_scenarios[s]['model'], \n",
    "                                        msg_scenario_name = smip_scenarios[s]['scenario'],\n",
    "                                        trade_type = 'Exports')\n",
    "    imports[s] =  import_trade_scenario(scenario = s,\n",
    "                                        msg_model_name = smip_scenarios[s]['model'], \n",
    "                                        msg_scenario_name = smip_scenarios[s]['scenario'],\n",
    "                                        trade_type = 'Imports')    "
   ]
  },
  {
   "cell_type": "code",
   "execution_count": 13,
   "id": "69b5b719",
   "metadata": {},
   "outputs": [],
   "source": [
    "# Save pickles\n",
    "exf = temp + 'exports.pkl'; imf = temp + 'imports.pkl'\n",
    "\n",
    "with open(exf, 'wb') as f: pickle.dump(exports, f)\n",
    "with open(imf, 'wb') as f: pickle.dump(imports, f)"
   ]
  },
  {
   "cell_type": "code",
   "execution_count": 14,
   "id": "8b107f4a",
   "metadata": {},
   "outputs": [],
   "source": [
    "mp.close_db()"
   ]
  },
  {
   "cell_type": "code",
   "execution_count": null,
   "id": "64d25b84",
   "metadata": {},
   "outputs": [],
   "source": []
  }
 ],
 "metadata": {
  "kernelspec": {
   "display_name": "Python 3 (ipykernel)",
   "language": "python",
   "name": "python3"
  },
  "language_info": {
   "codemirror_mode": {
    "name": "ipython",
    "version": 3
   },
   "file_extension": ".py",
   "mimetype": "text/x-python",
   "name": "python",
   "nbconvert_exporter": "python",
   "pygments_lexer": "ipython3",
   "version": "3.10.6"
  }
 },
 "nbformat": 4,
 "nbformat_minor": 5
}
