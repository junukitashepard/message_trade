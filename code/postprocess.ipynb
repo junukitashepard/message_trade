{
 "cells": [
  {
   "cell_type": "code",
   "execution_count": null,
   "id": "cbbb942c",
   "metadata": {},
   "outputs": [],
   "source": [
    "smip_scenarios = {'SSP1_baseline': {'model': 'SSP_SSP1_v2.3.1',\n",
    "                                    'scenario': 'baseline',\n",
    "                                    'gdx_file': 'MsgOutput_SSP_SSP1_v2.3_baseline.gdx'}}"
   ]
  },
  {
   "cell_type": "code",
   "execution_count": null,
   "id": "7b052a03",
   "metadata": {},
   "outputs": [],
   "source": [
    "# Import MESSAGEix packages\n",
    "from message_ix import Scenario\n",
    "from message_ix import Reporter\n",
    "from ixmp import Platform\n",
    "import ixmp"
   ]
  },
  {
   "cell_type": "code",
   "execution_count": null,
   "id": "dea4dc25",
   "metadata": {},
   "outputs": [],
   "source": [
    "import ixmp\n",
    "mp = ixmp.Platform()\n",
    "list = mp.scenario_list()\n",
    "list.write_csv()"
   ]
  },
  {
   "cell_type": "code",
   "execution_count": null,
   "id": "df398a7a",
   "metadata": {},
   "outputs": [],
   "source": [
    "import message_ix\n",
    "start_model = \"SSP_SSP2_v2.1\"\n",
    "start_scen = \"baseline_DEFAULT\"\n",
    "base = message_ix.Scenario(mp, model=start_model, scenario=start_scen)"
   ]
  },
  {
   "cell_type": "code",
   "execution_count": null,
   "id": "8b107f4a",
   "metadata": {},
   "outputs": [],
   "source": [
    "mp.close_db()"
   ]
  },
  {
   "cell_type": "code",
   "execution_count": null,
   "id": "64d25b84",
   "metadata": {},
   "outputs": [],
   "source": []
  }
 ],
 "metadata": {
  "kernelspec": {
   "display_name": "Python 3 (ipykernel)",
   "language": "python",
   "name": "python3"
  },
  "language_info": {
   "codemirror_mode": {
    "name": "ipython",
    "version": 3
   },
   "file_extension": ".py",
   "mimetype": "text/x-python",
   "name": "python",
   "nbconvert_exporter": "python",
   "pygments_lexer": "ipython3",
   "version": "3.10.6"
  }
 },
 "nbformat": 4,
 "nbformat_minor": 5
}
